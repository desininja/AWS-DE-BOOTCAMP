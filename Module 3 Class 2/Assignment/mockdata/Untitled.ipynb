{
 "cells": [
  {
   "cell_type": "code",
   "execution_count": 3,
   "metadata": {},
   "outputs": [],
   "source": [
    "from pyspark.sql import SparkSession"
   ]
  },
  {
   "cell_type": "code",
   "execution_count": 9,
   "metadata": {},
   "outputs": [],
   "source": [
    "from pyspark.sql.functions import col, to_date, to_timestamp, when\n",
    "from pyspark.sql.types import StructType, StructField, StringType,  DoubleType, TimestampType,IntegerType"
   ]
  },
  {
   "cell_type": "code",
   "execution_count": 4,
   "metadata": {},
   "outputs": [],
   "source": [
    "spark = SparkSession.builder.appName(\"Transforming Food Delivery Data\").getOrCreate()"
   ]
  },
  {
   "cell_type": "code",
   "execution_count": 10,
   "metadata": {},
   "outputs": [],
   "source": [
    "schema = StructType([\n",
    "    StructField('order_id',IntegerType(),True),\n",
    "    StructField('customer_id',IntegerType(),True),\n",
    "    StructField('restaurant_id',IntegerType(),True),\n",
    "    StructField('order_time',TimestampType(),True),\n",
    "    StructField('customer_location',StringType(),True),\n",
    "    StructField('restaurant_location',StringType(),True),\n",
    "    StructField('order_value',DoubleType(),True),\n",
    "    StructField('rating',DoubleType(),True),\n",
    "    StructField('delivery_time',TimestampType(),True)\n",
    "])"
   ]
  },
  {
   "cell_type": "code",
   "execution_count": 14,
   "metadata": {},
   "outputs": [],
   "source": [
    "df =spark.read.csv('Orders_data.csv',schema=schema,header=True)"
   ]
  },
  {
   "cell_type": "code",
   "execution_count": 15,
   "metadata": {
    "scrolled": true
   },
   "outputs": [
    {
     "name": "stdout",
     "output_type": "stream",
     "text": [
      "+--------+-----------+-------------+-------------------+-----------------+-------------------+-----------+------+-------------------+\n",
      "|order_id|customer_id|restaurant_id|         order_time|customer_location|restaurant_location|order_value|rating|      delivery_time|\n",
      "+--------+-----------+-------------+-------------------+-----------------+-------------------+-----------+------+-------------------+\n",
      "|    9813|       7032|          342|2024-04-06 15:34:13|       15th Floor|           Suite 31|     1810.2|  0.55|2024-04-06 16:31:49|\n",
      "|    9381|       8269|          541|2024-04-06 12:43:05|         Room 386|           Room 126|     157.01|  4.63|2024-04-06 13:18:59|\n",
      "|    7804|       3693|          499|2024-04-06 14:54:41|         Suite 67|           Suite 68|     218.23|  0.35|2024-04-06 15:40:03|\n",
      "|    7726|       2171|          174|2024-04-06 01:22:50|       14th Floor|          Room 1957|    4784.58|  0.35|2024-04-06 01:57:59|\n",
      "|    6719|       1937|          165|2024-04-06 10:04:25|     PO Box 75250|       PO Box 84309|     333.01|  3.89|2024-04-06 10:43:03|\n",
      "|    1362|       5397|          878|2024-04-06 13:44:04|         Room 352|          4th Floor|    2487.99|  3.63|2024-04-06 13:50:45|\n",
      "|    8076|       4943|          104|2024-04-06 02:54:57|     PO Box 20917|           Suite 43|    1037.93|  3.66|2024-04-06 03:10:23|\n",
      "|    2493|       4808|          804|2024-04-06 18:56:28|        Room 1123|       PO Box 59708|    3538.79|  3.66|2024-04-06 19:04:40|\n",
      "|    6108|       1683|          635|2024-04-06 21:02:13|       11th Floor|            Apt 489|    3146.72|  1.03|2024-04-06 21:44:37|\n",
      "|    6055|       2620|          827|2024-04-06 06:46:23|        5th Floor|        PO Box 5518|    1765.11|  3.85|2024-04-06 07:10:21|\n",
      "|    2351|       1543|          706|2024-04-06 00:46:17|        2nd Floor|       PO Box 82451|     3293.4|  4.93|2024-04-06 01:38:52|\n",
      "|    9934|       2874|          772|2024-04-06 16:27:10|        Room 1657|          5th Floor|    4142.44|  3.17|2024-04-06 17:19:39|\n",
      "|    8655|       6826|          933|2024-04-06 20:30:40|      PO Box 2929|           Room 384|      931.1|  4.77|2024-04-06 20:40:52|\n",
      "|    1575|       3949|          150|2024-04-06 04:19:48|     PO Box 58847|           Suite 72|    4201.25|  0.47|2024-04-06 04:50:49|\n",
      "|    7352|       8851|          883|2024-04-06 13:55:15|        4th Floor|           Suite 53|      649.4|  0.51|2024-04-06 13:58:00|\n",
      "|    8297|       7594|          780|2024-04-06 13:10:54|        Room 1181|           Apt 1494|     184.99|  4.77|2024-04-06 13:17:31|\n",
      "|    7767|       8831|          957|2024-04-06 06:21:34|     PO Box 97378|           Suite 35|    2187.39|  1.72|2024-04-06 06:43:36|\n",
      "|    5336|       2406|          544|2024-04-06 08:12:23|     PO Box 21577|          9th Floor|    2805.46|   0.2|2024-04-06 09:10:58|\n",
      "|    9850|       7130|          364|2024-04-06 06:07:11|         Suite 15|         19th Floor|    2116.17|  0.75|2024-04-06 06:26:53|\n",
      "|    9901|       5550|          311|2024-04-06 17:37:38|         Suite 64|            Suite 1|     758.87|  4.07|2024-04-06 18:19:50|\n",
      "+--------+-----------+-------------+-------------------+-----------------+-------------------+-----------+------+-------------------+\n",
      "only showing top 20 rows\n",
      "\n"
     ]
    }
   ],
   "source": [
    "df.show()"
   ]
  },
  {
   "cell_type": "code",
   "execution_count": null,
   "metadata": {},
   "outputs": [],
   "source": []
  },
  {
   "cell_type": "code",
   "execution_count": 16,
   "metadata": {},
   "outputs": [
    {
     "name": "stdout",
     "output_type": "stream",
     "text": [
      "root\n",
      " |-- order_id: integer (nullable = true)\n",
      " |-- customer_id: integer (nullable = true)\n",
      " |-- restaurant_id: integer (nullable = true)\n",
      " |-- order_time: timestamp (nullable = true)\n",
      " |-- customer_location: string (nullable = true)\n",
      " |-- restaurant_location: string (nullable = true)\n",
      " |-- order_value: double (nullable = true)\n",
      " |-- rating: double (nullable = true)\n",
      " |-- delivery_time: timestamp (nullable = true)\n",
      "\n"
     ]
    }
   ],
   "source": [
    "df.printSchema()"
   ]
  },
  {
   "cell_type": "code",
   "execution_count": 17,
   "metadata": {},
   "outputs": [],
   "source": [
    "df_validated = df.filter(\n",
    "(df.order_time.isNotNull()) &\n",
    "(df.delivery_time.isNotNull())&\n",
    "(df.order_value>0)\n",
    ")\n",
    "    "
   ]
  },
  {
   "cell_type": "code",
   "execution_count": 18,
   "metadata": {},
   "outputs": [],
   "source": [
    "df_transformed = df_validated.withColumn('delivery_duration',\n",
    "                                         (df_validated.delivery_time - df_validated.order_time).cast('long') / 60)\n"
   ]
  },
  {
   "cell_type": "code",
   "execution_count": 19,
   "metadata": {},
   "outputs": [
    {
     "name": "stdout",
     "output_type": "stream",
     "text": [
      "+--------+-----------+-------------+-------------------+-----------------+-------------------+-----------+------+-------------------+-----------------+\n",
      "|order_id|customer_id|restaurant_id|         order_time|customer_location|restaurant_location|order_value|rating|      delivery_time|delivery_duration|\n",
      "+--------+-----------+-------------+-------------------+-----------------+-------------------+-----------+------+-------------------+-----------------+\n",
      "|    9813|       7032|          342|2024-04-06 15:34:13|       15th Floor|           Suite 31|     1810.2|  0.55|2024-04-06 16:31:49|             57.6|\n",
      "|    9381|       8269|          541|2024-04-06 12:43:05|         Room 386|           Room 126|     157.01|  4.63|2024-04-06 13:18:59|             35.9|\n",
      "|    7804|       3693|          499|2024-04-06 14:54:41|         Suite 67|           Suite 68|     218.23|  0.35|2024-04-06 15:40:03|45.36666666666667|\n",
      "|    7726|       2171|          174|2024-04-06 01:22:50|       14th Floor|          Room 1957|    4784.58|  0.35|2024-04-06 01:57:59|            35.15|\n",
      "+--------+-----------+-------------+-------------------+-----------------+-------------------+-----------+------+-------------------+-----------------+\n",
      "only showing top 4 rows\n",
      "\n"
     ]
    }
   ],
   "source": [
    "df_transformed.show(4)"
   ]
  },
  {
   "cell_type": "code",
   "execution_count": 20,
   "metadata": {},
   "outputs": [],
   "source": [
    "low_threshold = 500\n",
    "high_threshold = 1200\n",
    "\n",
    "df_transformed = df_transformed.withColumn('order_category',\n",
    "                                          when(col('order_value')<low_threshold,\"Low\")\n",
    "                                          .when((col('order_value')>=low_threshold)& (col('order_value')<=high_threshold),'Medium')\n",
    "                                          .otherwise(\"High\"))"
   ]
  },
  {
   "cell_type": "code",
   "execution_count": 21,
   "metadata": {},
   "outputs": [
    {
     "name": "stdout",
     "output_type": "stream",
     "text": [
      "+--------+-----------+-------------+-------------------+-----------------+-------------------+-----------+------+-------------------+-----------------+--------------+\n",
      "|order_id|customer_id|restaurant_id|         order_time|customer_location|restaurant_location|order_value|rating|      delivery_time|delivery_duration|order_category|\n",
      "+--------+-----------+-------------+-------------------+-----------------+-------------------+-----------+------+-------------------+-----------------+--------------+\n",
      "|    9813|       7032|          342|2024-04-06 15:34:13|       15th Floor|           Suite 31|     1810.2|  0.55|2024-04-06 16:31:49|             57.6|          High|\n",
      "|    9381|       8269|          541|2024-04-06 12:43:05|         Room 386|           Room 126|     157.01|  4.63|2024-04-06 13:18:59|             35.9|           Low|\n",
      "|    7804|       3693|          499|2024-04-06 14:54:41|         Suite 67|           Suite 68|     218.23|  0.35|2024-04-06 15:40:03|45.36666666666667|           Low|\n",
      "|    7726|       2171|          174|2024-04-06 01:22:50|       14th Floor|          Room 1957|    4784.58|  0.35|2024-04-06 01:57:59|            35.15|          High|\n",
      "+--------+-----------+-------------+-------------------+-----------------+-------------------+-----------+------+-------------------+-----------------+--------------+\n",
      "only showing top 4 rows\n",
      "\n"
     ]
    }
   ],
   "source": [
    "df_transformed.show(4)"
   ]
  },
  {
   "cell_type": "code",
   "execution_count": null,
   "metadata": {},
   "outputs": [],
   "source": []
  }
 ],
 "metadata": {
  "kernelspec": {
   "display_name": "Python 3",
   "language": "python",
   "name": "python3"
  },
  "language_info": {
   "codemirror_mode": {
    "name": "ipython",
    "version": 3
   },
   "file_extension": ".py",
   "mimetype": "text/x-python",
   "name": "python",
   "nbconvert_exporter": "python",
   "pygments_lexer": "ipython3",
   "version": "3.8.5"
  }
 },
 "nbformat": 4,
 "nbformat_minor": 4
}
